{
 "cells": [
  {
   "cell_type": "markdown",
   "metadata": {},
   "source": [
    "# Preprocesamiento de recorte\n",
    "Para los videos capturados a una distancia del musico, debido al lente abierto de las camaras, el telon de fondo no cubria el fondo entero y por eso se realizo este script que recorta los bordes de los videos que introducian ruido, sin perder informacion de les musicos.\n",
    "El recorte se realizo sobre el video con la distorsion corregida."
   ]
  },
  {
   "cell_type": "code",
   "execution_count": 8,
   "metadata": {},
   "outputs": [
    {
     "name": "stdout",
     "output_type": "stream",
     "text": [
      "./gopro2/Rito/undistorted/platos/undist_GOPR9002.MP4\n",
      "./gopro2/Rito/undistorted/platos/undist_GOPR8999.MP4\n",
      "./gopro2/Rito/undistorted/platos/undist_GOPR8997.MP4\n",
      "./gopro2/Rito/undistorted/platos/undist_GOPR9000.MP4\n",
      "./gopro2/Rito/undistorted/platos/undist_GOPR8998.MP4\n",
      "./gopro2/Rito/undistorted/platos/undist_GOPR9001.MP4\n"
     ]
    }
   ],
   "source": [
    "import numpy as np\n",
    "from matplotlib import pyplot as plt\n",
    "from skimage.io import imread, imsave\n",
    "from skimage import data, color, img_as_ubyte\n",
    "from skimage.feature import canny\n",
    "from skimage.transform import hough_ellipse\n",
    "from skimage.draw import ellipse_perimeter\n",
    "from scipy import signal\n",
    "from scipy import misc\n",
    "import scipy.ndimage.filters as filters\n",
    "import scipy.ndimage as ndimage\n",
    "\n",
    "import math\n",
    "import time\n",
    "import pdb\n",
    "import os\n",
    "import cv2\n",
    "import skimage\n",
    "#import imutils\n",
    "import glob\n",
    "\n",
    "\n",
    "videos = glob.glob('./gopro2/Rito/undistorted/platos/*.MP4')\n",
    "for fname in videos:\n",
    "    cap = cv2.VideoCapture(fname)\n",
    "    print(fname)\n",
    "    vid_writer = cv2.VideoWriter(os.path.dirname(fname)+'/cropped/crop_'+os.path.basename(fname),cv2.VideoWriter_fourcc('M','J','P','G'), 240, (410,480))\n",
    "\n",
    "    while(cap.isOpened()):\n",
    "        ret, frame = cap.read()\n",
    "        if ret==True:\n",
    "                \n",
    "            # se corta\n",
    "            #print(frame.shape)\n",
    "            cropped = frame[:,270:680]\n",
    "            #print(cropped.shape)\n",
    "        \n",
    "        \n",
    "            # se guarda la imagen cortada\n",
    "            if cropped.shape[0]*cropped.shape[1] > 0:\n",
    "                vid_writer.write(cropped)\n",
    "        else:\n",
    "            break\n",
    "        \n",
    "    vid_writer.release()\n",
    "    cap.release()\n"
   ]
  },
  {
   "cell_type": "code",
   "execution_count": null,
   "metadata": {},
   "outputs": [],
   "source": []
  }
 ],
 "metadata": {
  "kernelspec": {
   "display_name": "Python 3",
   "language": "python",
   "name": "python3"
  },
  "language_info": {
   "codemirror_mode": {
    "name": "ipython",
    "version": 3
   },
   "file_extension": ".py",
   "mimetype": "text/x-python",
   "name": "python",
   "nbconvert_exporter": "python",
   "pygments_lexer": "ipython3",
   "version": "3.6.8"
  }
 },
 "nbformat": 4,
 "nbformat_minor": 2
}
